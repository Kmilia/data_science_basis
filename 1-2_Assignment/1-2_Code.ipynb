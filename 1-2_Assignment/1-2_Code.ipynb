{
 "cells": [
  {
   "cell_type": "code",
   "execution_count": 5,
   "metadata": {},
   "outputs": [],
   "source": [
    "import pandas as pd\n",
    "import numpy as np"
   ]
  },
  {
   "cell_type": "code",
   "execution_count": 6,
   "metadata": {},
   "outputs": [],
   "source": [
    "df = pd.read_csv('data/titanic2.csv')"
   ]
  },
  {
   "cell_type": "code",
   "execution_count": 7,
   "metadata": {},
   "outputs": [
    {
     "data": {
      "text/plain": [
       "915"
      ]
     },
     "execution_count": 7,
     "metadata": {},
     "output_type": "execute_result"
    }
   ],
   "source": [
    "2224 - len(df)"
   ]
  },
  {
   "cell_type": "code",
   "execution_count": 8,
   "metadata": {},
   "outputs": [
    {
     "name": "stdout",
     "output_type": "stream",
     "text": [
      "*** Passenger Class Count ***\n",
      "Third     709\n",
      "First     323\n",
      "Second    277\n",
      "Name: Passenger Class, dtype: int64\n",
      "\n",
      "*** Sex Count ***\n",
      "Male      843\n",
      "Female    466\n",
      "Name: Sex, dtype: int64\n",
      "\n",
      "*** Age Mean : nan ***\n",
      "\n",
      "*** No of Siblings or Spouses on Board Mean : 0.4988540870893812 ***\n",
      "\n",
      "*** No of Parents or Children on Board Mean : 0.3850267379679144 ***\n",
      "\n",
      "*** Passenger Fare Mean : nan ***\n",
      "\n",
      "*** Port of Embarkation Count ***\n",
      "Southampton    914\n",
      "Cherbourg      270\n",
      "Queenstown     123\n",
      "Name: Port of Embarkation, dtype: int64\n",
      "\n",
      "*** Life Boat Count ***\n",
      "13         39\n",
      "C          38\n",
      "15         37\n",
      "14         33\n",
      "4          31\n",
      "10         29\n",
      "5          27\n",
      "3          26\n",
      "9          25\n",
      "11         25\n",
      "8          23\n",
      "16         23\n",
      "7          23\n",
      "6          20\n",
      "D          20\n",
      "12         19\n",
      "2          13\n",
      "A          11\n",
      "B           9\n",
      "1           5\n",
      "5 7         2\n",
      "C D         2\n",
      "13 15       2\n",
      "15 16       1\n",
      "8 10        1\n",
      "5 9         1\n",
      "13 15 B     1\n",
      "Name: Life Boat, dtype: int64\n",
      "\n",
      "*** Survived Count ***\n",
      "No     809\n",
      "Yes    500\n",
      "Name: Survived, dtype: int64\n",
      "\n"
     ]
    }
   ],
   "source": [
    "from statistics import mean\n",
    "\n",
    "filt = [\"Name\", \"Ticket Number\", \"Cabin\"]\n",
    "df_filt = df.drop(filt, axis=1)\n",
    "\n",
    "for column in df_filt.columns:\n",
    "    if df_filt[column].dtypes == \"object\":\n",
    "        print(f\"*** {column} Count ***\")\n",
    "        print(df_filt[column].value_counts())\n",
    "    else:\n",
    "        print(f\"*** {column} Mean : {mean(df_filt[column])} ***\")\n",
    "    print()"
   ]
  },
  {
   "cell_type": "code",
   "execution_count": 9,
   "metadata": {},
   "outputs": [
    {
     "name": "stdout",
     "output_type": "stream",
     "text": [
      "486\n"
     ]
    },
    {
     "data": {
      "text/plain": [
       "33.295479281345564"
      ]
     },
     "execution_count": 9,
     "metadata": {},
     "output_type": "execute_result"
    }
   ],
   "source": [
    "print(len(df[\"Life Boat\"]) - df[\"Life Boat\"].isna().sum())\n",
    "mean(df[\"Passenger Fare\"].dropna())"
   ]
  },
  {
   "cell_type": "code",
   "execution_count": 10,
   "metadata": {},
   "outputs": [
    {
     "data": {
      "text/plain": [
       "500"
      ]
     },
     "execution_count": 10,
     "metadata": {},
     "output_type": "execute_result"
    }
   ],
   "source": [
    "len(df[df.Survived == \"Yes\"])"
   ]
  },
  {
   "cell_type": "code",
   "execution_count": 11,
   "metadata": {},
   "outputs": [
    {
     "data": {
      "text/plain": [
       "Name                                   object\n",
       "Passenger Class                        object\n",
       "Sex                                    object\n",
       "Age                                   float64\n",
       "No of Siblings or Spouses on Board      int64\n",
       "No of Parents or Children on Board      int64\n",
       "Ticket Number                          object\n",
       "Passenger Fare                        float64\n",
       "Cabin                                  object\n",
       "Port of Embarkation                    object\n",
       "Life Boat                              object\n",
       "Survived                               object\n",
       "dtype: object"
      ]
     },
     "execution_count": 11,
     "metadata": {},
     "output_type": "execute_result"
    }
   ],
   "source": [
    "df.dtypes"
   ]
  },
  {
   "cell_type": "code",
   "execution_count": 29,
   "metadata": {},
   "outputs": [
    {
     "data": {
      "text/plain": [
       "Age_Label     Survived\n",
       "(16.1, 32.1]  No          517\n",
       "              Yes         270\n",
       "(32.1, 48.1]  No          162\n",
       "              Yes         107\n",
       "(0.09, 16.1]  Yes          74\n",
       "              No           60\n",
       "(48.1, 64.0]  No           59\n",
       "              Yes          47\n",
       "(64.0, 80.0]  No           11\n",
       "              Yes           2\n",
       "dtype: int64"
      ]
     },
     "execution_count": 29,
     "metadata": {},
     "output_type": "execute_result"
    }
   ],
   "source": [
    "df[\"Age_Label\"] = pd.cut(df[\"Age\"], 5, precision=1)\n",
    "df[[\"Age_Label\", \"Survived\"]].value_counts()"
   ]
  },
  {
   "cell_type": "code",
   "execution_count": 28,
   "metadata": {},
   "outputs": [
    {
     "name": "stdout",
     "output_type": "stream",
     "text": [
      "0\n",
      "0\n",
      "         Passenger Fare                            Age                     \n",
      "Sex              Female    Male  Female    Male Female    Male Female  Male\n",
      "Survived            Yes     Yes      No      No    Yes     Yes     No    No\n",
      "0              211.3375     NaN     NaN     NaN   29.0     NaN    NaN   NaN\n",
      "1                   NaN  151.55     NaN     NaN    NaN  0.9167    NaN   NaN\n",
      "2                   NaN     NaN  151.55     NaN    NaN     NaN    2.0   NaN\n",
      "3                   NaN     NaN     NaN  151.55    NaN     NaN    NaN  30.0\n",
      "4                   NaN     NaN  151.55     NaN    NaN     NaN   25.0   NaN\n"
     ]
    }
   ],
   "source": [
    "df[\"Age\"].fillna(mean(df[\"Age\"].dropna()), inplace=True)\n",
    "df[\"Passenger Fare\"].fillna(mean(df[\"Passenger Fare\"].dropna()), inplace=True)\n",
    "\n",
    "print(df[\"Passenger Fare\"].isna().sum())\n",
    "print(df[\"Age\"].isna().sum())\n",
    "\n",
    "pivot_df = df.pivot(columns=[\"Sex\",\"Survived\"], values=[\"Passenger Fare\", \"Age\"])\n",
    "print(pivot_df.head())"
   ]
  },
  {
   "cell_type": "code",
   "execution_count": 36,
   "metadata": {},
   "outputs": [
    {
     "data": {
      "text/html": [
       "<div>\n",
       "<style scoped>\n",
       "    .dataframe tbody tr th:only-of-type {\n",
       "        vertical-align: middle;\n",
       "    }\n",
       "\n",
       "    .dataframe tbody tr th {\n",
       "        vertical-align: top;\n",
       "    }\n",
       "\n",
       "    .dataframe thead th {\n",
       "        text-align: right;\n",
       "    }\n",
       "</style>\n",
       "<table border=\"1\" class=\"dataframe\">\n",
       "  <thead>\n",
       "    <tr style=\"text-align: right;\">\n",
       "      <th></th>\n",
       "      <th>Sex</th>\n",
       "      <th>Survived</th>\n",
       "      <th>Age</th>\n",
       "      <th>Passenger Fare</th>\n",
       "    </tr>\n",
       "  </thead>\n",
       "  <tbody>\n",
       "    <tr>\n",
       "      <th>0</th>\n",
       "      <td>Female</td>\n",
       "      <td>No</td>\n",
       "      <td>29.000000</td>\n",
       "      <td>22.324084</td>\n",
       "    </tr>\n",
       "    <tr>\n",
       "      <th>1</th>\n",
       "      <td>Female</td>\n",
       "      <td>Yes</td>\n",
       "      <td>29.881135</td>\n",
       "      <td>55.142048</td>\n",
       "    </tr>\n",
       "    <tr>\n",
       "      <th>2</th>\n",
       "      <td>Male</td>\n",
       "      <td>No</td>\n",
       "      <td>29.881135</td>\n",
       "      <td>23.560164</td>\n",
       "    </tr>\n",
       "    <tr>\n",
       "      <th>3</th>\n",
       "      <td>Male</td>\n",
       "      <td>Yes</td>\n",
       "      <td>29.881135</td>\n",
       "      <td>37.189053</td>\n",
       "    </tr>\n",
       "  </tbody>\n",
       "</table>\n",
       "</div>"
      ],
      "text/plain": [
       "      Sex Survived        Age  Passenger Fare\n",
       "0  Female       No  29.000000       22.324084\n",
       "1  Female      Yes  29.881135       55.142048\n",
       "2    Male       No  29.881135       23.560164\n",
       "3    Male      Yes  29.881135       37.189053"
      ]
     },
     "execution_count": 36,
     "metadata": {},
     "output_type": "execute_result"
    }
   ],
   "source": [
    "sex_survived_group = df.groupby([\"Sex\",\"Survived\"], as_index=False)\n",
    "sex_survived_agg = sex_survived_group.agg({\"Age\": \"median\", \"Passenger Fare\": \"mean\"})\n",
    "sex_survived_agg"
   ]
  },
  {
   "cell_type": "code",
   "execution_count": 37,
   "metadata": {},
   "outputs": [
    {
     "data": {
      "text/html": [
       "<div>\n",
       "<style scoped>\n",
       "    .dataframe tbody tr th:only-of-type {\n",
       "        vertical-align: middle;\n",
       "    }\n",
       "\n",
       "    .dataframe tbody tr th {\n",
       "        vertical-align: top;\n",
       "    }\n",
       "\n",
       "    .dataframe thead tr th {\n",
       "        text-align: left;\n",
       "    }\n",
       "\n",
       "    .dataframe thead tr:last-of-type th {\n",
       "        text-align: right;\n",
       "    }\n",
       "</style>\n",
       "<table border=\"1\" class=\"dataframe\">\n",
       "  <thead>\n",
       "    <tr>\n",
       "      <th></th>\n",
       "      <th colspan=\"2\" halign=\"left\">Age</th>\n",
       "      <th colspan=\"2\" halign=\"left\">Passenger Fare</th>\n",
       "    </tr>\n",
       "    <tr>\n",
       "      <th>Sex</th>\n",
       "      <th>Female</th>\n",
       "      <th>Male</th>\n",
       "      <th>Female</th>\n",
       "      <th>Male</th>\n",
       "    </tr>\n",
       "    <tr>\n",
       "      <th>Survived</th>\n",
       "      <th></th>\n",
       "      <th></th>\n",
       "      <th></th>\n",
       "      <th></th>\n",
       "    </tr>\n",
       "  </thead>\n",
       "  <tbody>\n",
       "    <tr>\n",
       "      <th>No</th>\n",
       "      <td>29.000000</td>\n",
       "      <td>29.881135</td>\n",
       "      <td>22.324084</td>\n",
       "      <td>23.560164</td>\n",
       "    </tr>\n",
       "    <tr>\n",
       "      <th>Yes</th>\n",
       "      <td>29.881135</td>\n",
       "      <td>29.881135</td>\n",
       "      <td>55.142048</td>\n",
       "      <td>37.189053</td>\n",
       "    </tr>\n",
       "  </tbody>\n",
       "</table>\n",
       "</div>"
      ],
      "text/plain": [
       "                Age            Passenger Fare           \n",
       "Sex          Female       Male         Female       Male\n",
       "Survived                                                \n",
       "No        29.000000  29.881135      22.324084  23.560164\n",
       "Yes       29.881135  29.881135      55.142048  37.189053"
      ]
     },
     "execution_count": 37,
     "metadata": {},
     "output_type": "execute_result"
    }
   ],
   "source": [
    "sex_survived_agg.pivot(index='Survived', columns='Sex', values=['Age', 'Passenger Fare'])"
   ]
  }
 ],
 "metadata": {
  "kernelspec": {
   "display_name": "Python 3.8.8 64-bit ('base')",
   "language": "python",
   "name": "python3"
  },
  "language_info": {
   "codemirror_mode": {
    "name": "ipython",
    "version": 3
   },
   "file_extension": ".py",
   "mimetype": "text/x-python",
   "name": "python",
   "nbconvert_exporter": "python",
   "pygments_lexer": "ipython3",
   "version": "3.8.8"
  },
  "orig_nbformat": 4,
  "vscode": {
   "interpreter": {
    "hash": "624c434b4448266ef6b3c5b6c15667705777b54e221aadd916740c58273314d9"
   }
  }
 },
 "nbformat": 4,
 "nbformat_minor": 2
}
