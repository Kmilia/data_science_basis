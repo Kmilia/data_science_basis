{
 "cells": [
  {
   "cell_type": "code",
   "execution_count": 17,
   "metadata": {},
   "outputs": [],
   "source": [
    "import pandas as pd\n",
    "import numpy as np\n",
    "import seaborn as sns\n",
    "import sklearn"
   ]
  },
  {
   "cell_type": "code",
   "execution_count": 18,
   "metadata": {},
   "outputs": [],
   "source": [
    "_PATH = \"4-5_Data/\"\n",
    "_GAMES_FILE = \"games.grivg.csv\"\n",
    "_CHARACTERS_FILE = \"characters.grivg.csv\"\n",
    "_GENDER = [\"Female\", \"Male\"]\n",
    "_Y_Label = \"Is_Female\""
   ]
  },
  {
   "cell_type": "markdown",
   "metadata": {},
   "source": [
    "# Gender Representation in Video Games\n",
    "\n",
    "Kaggle: https://www.kaggle.com/datasets/br33sa/gender-representation-in-video-games?resource=download"
   ]
  },
  {
   "cell_type": "code",
   "execution_count": 19,
   "metadata": {},
   "outputs": [
    {
     "data": {
      "text/plain": [
       "637"
      ]
     },
     "execution_count": 19,
     "metadata": {},
     "output_type": "execute_result"
    }
   ],
   "source": [
    "df_games = pd.read_csv(f\"{_PATH}{_GAMES_FILE}\")\n",
    "df_characters = pd.read_csv(f\"{_PATH}{_CHARACTERS_FILE}\")\n",
    "for df in [df_games, df_characters]:\n",
    "    df.drop_duplicates()\n",
    "len(df_characters)"
   ]
  },
  {
   "cell_type": "code",
   "execution_count": 20,
   "metadata": {},
   "outputs": [
    {
     "data": {
      "text/plain": [
       "Index(['Name', 'Gender', 'Game', 'Age', 'Age_range', 'Playable',\n",
       "       'Sexualization', 'Id', 'Species', 'Side', 'Relevance',\n",
       "       'Romantic_Interest'],\n",
       "      dtype='object')"
      ]
     },
     "execution_count": 20,
     "metadata": {},
     "output_type": "execute_result"
    }
   ],
   "source": [
    "df_characters.columns"
   ]
  },
  {
   "cell_type": "code",
   "execution_count": 31,
   "metadata": {},
   "outputs": [
    {
     "data": {
      "text/plain": [
       "Index(['Gender', 'Age_range', 'Playable', 'Sexualization', 'Side', 'Relevance',\n",
       "       'Romantic_Interest'],\n",
       "      dtype='object')"
      ]
     },
     "execution_count": 31,
     "metadata": {},
     "output_type": "execute_result"
    }
   ],
   "source": [
    "df = df_characters.drop([\"Id\", \"Age\", \"Game\", \"Name\", \"Species\"], axis=1)\n",
    "df = df[df.Gender.isin(_GENDER)]\n",
    "df.reset_index(inplace=True, drop=True)\n",
    "df.columns"
   ]
  },
  {
   "cell_type": "code",
   "execution_count": 33,
   "metadata": {},
   "outputs": [
    {
     "data": {
      "text/html": [
       "<div>\n",
       "<style scoped>\n",
       "    .dataframe tbody tr th:only-of-type {\n",
       "        vertical-align: middle;\n",
       "    }\n",
       "\n",
       "    .dataframe tbody tr th {\n",
       "        vertical-align: top;\n",
       "    }\n",
       "\n",
       "    .dataframe thead th {\n",
       "        text-align: right;\n",
       "    }\n",
       "</style>\n",
       "<table border=\"1\" class=\"dataframe\">\n",
       "  <thead>\n",
       "    <tr style=\"text-align: right;\">\n",
       "      <th></th>\n",
       "      <th>Gender</th>\n",
       "      <th>Age_range</th>\n",
       "      <th>Playable</th>\n",
       "      <th>Sexualization</th>\n",
       "      <th>Side</th>\n",
       "      <th>Relevance</th>\n",
       "      <th>Romantic_Interest</th>\n",
       "    </tr>\n",
       "  </thead>\n",
       "  <tbody>\n",
       "    <tr>\n",
       "      <th>0</th>\n",
       "      <td>Female</td>\n",
       "      <td>Adult</td>\n",
       "      <td>1</td>\n",
       "      <td>0</td>\n",
       "      <td>P</td>\n",
       "      <td>PA</td>\n",
       "      <td>No</td>\n",
       "    </tr>\n",
       "    <tr>\n",
       "      <th>1</th>\n",
       "      <td>Female</td>\n",
       "      <td>Elderly</td>\n",
       "      <td>0</td>\n",
       "      <td>0</td>\n",
       "      <td>P</td>\n",
       "      <td>SC</td>\n",
       "      <td>No</td>\n",
       "    </tr>\n",
       "    <tr>\n",
       "      <th>2</th>\n",
       "      <td>Female</td>\n",
       "      <td>Adult</td>\n",
       "      <td>0</td>\n",
       "      <td>0</td>\n",
       "      <td>P</td>\n",
       "      <td>SC</td>\n",
       "      <td>No</td>\n",
       "    </tr>\n",
       "    <tr>\n",
       "      <th>3</th>\n",
       "      <td>Female</td>\n",
       "      <td>Teenager</td>\n",
       "      <td>0</td>\n",
       "      <td>0</td>\n",
       "      <td>B</td>\n",
       "      <td>MC</td>\n",
       "      <td>No</td>\n",
       "    </tr>\n",
       "    <tr>\n",
       "      <th>4</th>\n",
       "      <td>Female</td>\n",
       "      <td>Adult</td>\n",
       "      <td>0</td>\n",
       "      <td>0</td>\n",
       "      <td>A</td>\n",
       "      <td>SC</td>\n",
       "      <td>No</td>\n",
       "    </tr>\n",
       "    <tr>\n",
       "      <th>5</th>\n",
       "      <td>Female</td>\n",
       "      <td>Adult</td>\n",
       "      <td>0</td>\n",
       "      <td>2</td>\n",
       "      <td>P</td>\n",
       "      <td>MC</td>\n",
       "      <td>Yes</td>\n",
       "    </tr>\n",
       "    <tr>\n",
       "      <th>6</th>\n",
       "      <td>Female</td>\n",
       "      <td>Teenager</td>\n",
       "      <td>0</td>\n",
       "      <td>0</td>\n",
       "      <td>P</td>\n",
       "      <td>DA</td>\n",
       "      <td>No</td>\n",
       "    </tr>\n",
       "    <tr>\n",
       "      <th>7</th>\n",
       "      <td>Female</td>\n",
       "      <td>Young adult</td>\n",
       "      <td>0</td>\n",
       "      <td>2</td>\n",
       "      <td>P</td>\n",
       "      <td>DA</td>\n",
       "      <td>No</td>\n",
       "    </tr>\n",
       "    <tr>\n",
       "      <th>8</th>\n",
       "      <td>Female</td>\n",
       "      <td>Child</td>\n",
       "      <td>0</td>\n",
       "      <td>0</td>\n",
       "      <td>P</td>\n",
       "      <td>DA</td>\n",
       "      <td>No</td>\n",
       "    </tr>\n",
       "    <tr>\n",
       "      <th>9</th>\n",
       "      <td>Female</td>\n",
       "      <td>Adult</td>\n",
       "      <td>0</td>\n",
       "      <td>1</td>\n",
       "      <td>P</td>\n",
       "      <td>MC</td>\n",
       "      <td>Yes</td>\n",
       "    </tr>\n",
       "    <tr>\n",
       "      <th>10</th>\n",
       "      <td>Female</td>\n",
       "      <td>Child</td>\n",
       "      <td>0</td>\n",
       "      <td>0</td>\n",
       "      <td>P</td>\n",
       "      <td>DA</td>\n",
       "      <td>No</td>\n",
       "    </tr>\n",
       "    <tr>\n",
       "      <th>11</th>\n",
       "      <td>Female</td>\n",
       "      <td>Young adult</td>\n",
       "      <td>0</td>\n",
       "      <td>0</td>\n",
       "      <td>P</td>\n",
       "      <td>DA</td>\n",
       "      <td>No</td>\n",
       "    </tr>\n",
       "    <tr>\n",
       "      <th>12</th>\n",
       "      <td>Female</td>\n",
       "      <td>Middle-aged</td>\n",
       "      <td>0</td>\n",
       "      <td>3</td>\n",
       "      <td>B</td>\n",
       "      <td>SC</td>\n",
       "      <td>Yes</td>\n",
       "    </tr>\n",
       "    <tr>\n",
       "      <th>13</th>\n",
       "      <td>Female</td>\n",
       "      <td>Young adult</td>\n",
       "      <td>0</td>\n",
       "      <td>3</td>\n",
       "      <td>B</td>\n",
       "      <td>SC</td>\n",
       "      <td>No</td>\n",
       "    </tr>\n",
       "    <tr>\n",
       "      <th>14</th>\n",
       "      <td>Female</td>\n",
       "      <td>Young adult</td>\n",
       "      <td>0</td>\n",
       "      <td>0</td>\n",
       "      <td>P</td>\n",
       "      <td>MC</td>\n",
       "      <td>No</td>\n",
       "    </tr>\n",
       "    <tr>\n",
       "      <th>15</th>\n",
       "      <td>Female</td>\n",
       "      <td>Adult</td>\n",
       "      <td>0</td>\n",
       "      <td>0</td>\n",
       "      <td>P</td>\n",
       "      <td>SC</td>\n",
       "      <td>No</td>\n",
       "    </tr>\n",
       "    <tr>\n",
       "      <th>16</th>\n",
       "      <td>Female</td>\n",
       "      <td>Young adult</td>\n",
       "      <td>0</td>\n",
       "      <td>0</td>\n",
       "      <td>P</td>\n",
       "      <td>SC</td>\n",
       "      <td>No</td>\n",
       "    </tr>\n",
       "    <tr>\n",
       "      <th>17</th>\n",
       "      <td>Female</td>\n",
       "      <td>Young adult</td>\n",
       "      <td>0</td>\n",
       "      <td>0</td>\n",
       "      <td>P</td>\n",
       "      <td>SC</td>\n",
       "      <td>No</td>\n",
       "    </tr>\n",
       "    <tr>\n",
       "      <th>18</th>\n",
       "      <td>Female</td>\n",
       "      <td>Adult</td>\n",
       "      <td>0</td>\n",
       "      <td>0</td>\n",
       "      <td>P</td>\n",
       "      <td>SC</td>\n",
       "      <td>No</td>\n",
       "    </tr>\n",
       "    <tr>\n",
       "      <th>19</th>\n",
       "      <td>Female</td>\n",
       "      <td>Middle-aged</td>\n",
       "      <td>0</td>\n",
       "      <td>0</td>\n",
       "      <td>P</td>\n",
       "      <td>SC</td>\n",
       "      <td>No</td>\n",
       "    </tr>\n",
       "  </tbody>\n",
       "</table>\n",
       "</div>"
      ],
      "text/plain": [
       "    Gender    Age_range  Playable  Sexualization Side Relevance  \\\n",
       "0   Female        Adult         1              0    P        PA   \n",
       "1   Female      Elderly         0              0    P        SC   \n",
       "2   Female        Adult         0              0    P        SC   \n",
       "3   Female     Teenager         0              0    B        MC   \n",
       "4   Female        Adult         0              0    A        SC   \n",
       "5   Female        Adult         0              2    P        MC   \n",
       "6   Female     Teenager         0              0    P        DA   \n",
       "7   Female  Young adult         0              2    P        DA   \n",
       "8   Female        Child         0              0    P        DA   \n",
       "9   Female        Adult         0              1    P        MC   \n",
       "10  Female        Child         0              0    P        DA   \n",
       "11  Female  Young adult         0              0    P        DA   \n",
       "12  Female  Middle-aged         0              3    B        SC   \n",
       "13  Female  Young adult         0              3    B        SC   \n",
       "14  Female  Young adult         0              0    P        MC   \n",
       "15  Female        Adult         0              0    P        SC   \n",
       "16  Female  Young adult         0              0    P        SC   \n",
       "17  Female  Young adult         0              0    P        SC   \n",
       "18  Female        Adult         0              0    P        SC   \n",
       "19  Female  Middle-aged         0              0    P        SC   \n",
       "\n",
       "   Romantic_Interest  \n",
       "0                 No  \n",
       "1                 No  \n",
       "2                 No  \n",
       "3                 No  \n",
       "4                 No  \n",
       "5                Yes  \n",
       "6                 No  \n",
       "7                 No  \n",
       "8                 No  \n",
       "9                Yes  \n",
       "10                No  \n",
       "11                No  \n",
       "12               Yes  \n",
       "13                No  \n",
       "14                No  \n",
       "15                No  \n",
       "16                No  \n",
       "17                No  \n",
       "18                No  \n",
       "19                No  "
      ]
     },
     "execution_count": 33,
     "metadata": {},
     "output_type": "execute_result"
    }
   ],
   "source": [
    "df.head(20)"
   ]
  },
  {
   "cell_type": "markdown",
   "metadata": {},
   "source": [
    "## Conversion en Int Column Relevance"
   ]
  },
  {
   "cell_type": "code",
   "execution_count": 22,
   "metadata": {},
   "outputs": [
    {
     "data": {
      "text/plain": [
       "'\\nrelevance = df[\"Relevance\"]\\nconditions = [\\n(relevance == \"SC\"),\\n(relevance == \"MC\"),\\n(relevance == \"PA\"),\\n(relevance == \"MA\"),\\n(relevance == \"DA\"),\\n(relevance == \"SK\")\\n]\\nvalues = range(0, 6)\\ndf[\"Relevance_Int\"] = np.select(conditions, values)\\ndf[\"Relevance_Int\"].value_counts()\\n'"
      ]
     },
     "execution_count": 22,
     "metadata": {},
     "output_type": "execute_result"
    }
   ],
   "source": [
    "'''\n",
    "relevance = df[\"Relevance\"]\n",
    "conditions = [\n",
    "(relevance == \"SC\"),\n",
    "(relevance == \"MC\"),\n",
    "(relevance == \"PA\"),\n",
    "(relevance == \"MA\"),\n",
    "(relevance == \"DA\"),\n",
    "(relevance == \"SK\")\n",
    "]\n",
    "values = range(0, 6)\n",
    "df[\"Relevance_Int\"] = np.select(conditions, values)\n",
    "df[\"Relevance_Int\"].value_counts()\n",
    "'''"
   ]
  },
  {
   "cell_type": "code",
   "execution_count": 23,
   "metadata": {},
   "outputs": [],
   "source": [
    "relevance_dummies = pd.get_dummies(df[\"Relevance\"])\n",
    "df = relevance_dummies.join(df.drop(\"Relevance\", axis=1))"
   ]
  },
  {
   "cell_type": "markdown",
   "metadata": {},
   "source": [
    "## Conversion en Int Column Side"
   ]
  },
  {
   "cell_type": "code",
   "execution_count": 24,
   "metadata": {},
   "outputs": [
    {
     "data": {
      "text/plain": [
       "'_COLUMN = \"Side\"\\ncolumn = df[_COLUMN]\\nconditions = [\\n(column == \"P\"),\\n(column == \"A\"),\\n(column == \"B\")\\n]\\nvalues = range(0, 3)\\ndf[f\"{_COLUMN}_Int\"] = np.select(conditions, values)\\ndf[f\"{_COLUMN}_Int\"].value_counts()\\n'"
      ]
     },
     "execution_count": 24,
     "metadata": {},
     "output_type": "execute_result"
    }
   ],
   "source": [
    "'''_COLUMN = \"Side\"\n",
    "column = df[_COLUMN]\n",
    "conditions = [\n",
    "(column == \"P\"),\n",
    "(column == \"A\"),\n",
    "(column == \"B\")\n",
    "]\n",
    "values = range(0, 3)\n",
    "df[f\"{_COLUMN}_Int\"] = np.select(conditions, values)\n",
    "df[f\"{_COLUMN}_Int\"].value_counts()\n",
    "'''"
   ]
  },
  {
   "cell_type": "code",
   "execution_count": 25,
   "metadata": {},
   "outputs": [],
   "source": [
    "relevance_dummies = pd.get_dummies(df[\"Side\"])\n",
    "df = relevance_dummies.join(df.drop(\"Side\", axis=1))"
   ]
  },
  {
   "cell_type": "markdown",
   "metadata": {},
   "source": [
    "## Conversion en Int Column Romantic Interest"
   ]
  },
  {
   "cell_type": "code",
   "execution_count": 26,
   "metadata": {},
   "outputs": [
    {
     "data": {
      "text/plain": [
       "0.0    549\n",
       "0.5     30\n",
       "1.0     17\n",
       "Name: Romantic_Interest, dtype: int64"
      ]
     },
     "execution_count": 26,
     "metadata": {},
     "output_type": "execute_result"
    }
   ],
   "source": [
    "_COLUMN = \"Romantic_Interest\"\n",
    "column = df[_COLUMN]\n",
    "conditions = [\n",
    "(column == \"No\"),\n",
    "(column == \"Opt\"),\n",
    "(column == \"Yes\")\n",
    "]\n",
    "values = [0, 0.5, 1]\n",
    "df[f\"{_COLUMN}\"] = np.select(conditions, values)\n",
    "df[f\"{_COLUMN}\"].value_counts()"
   ]
  },
  {
   "cell_type": "markdown",
   "metadata": {},
   "source": [
    "## Conversion en Int Column Gender"
   ]
  },
  {
   "cell_type": "code",
   "execution_count": 27,
   "metadata": {},
   "outputs": [],
   "source": [
    "_COLUMN = \"Gender\"\n",
    "column = df[_COLUMN]\n",
    "conditions = [\n",
    "(column == \"Female\"),\n",
    "(column == \"Male\")\n",
    "]\n",
    "values = [1, 0]\n",
    "df[_Y_Label] = np.select(conditions, values)\n",
    "df[_Y_Label].value_counts()\n",
    "df = df.drop([_COLUMN], axis=1)"
   ]
  },
  {
   "cell_type": "markdown",
   "metadata": {},
   "source": [
    "## Conversion en Int Column Age Range"
   ]
  },
  {
   "cell_type": "code",
   "execution_count": 28,
   "metadata": {},
   "outputs": [
    {
     "data": {
      "text/plain": [
       "5    259\n",
       "0    228\n",
       "3     42\n",
       "2     35\n",
       "7     29\n",
       "1      3\n",
       "Name: Age_range, dtype: int64"
      ]
     },
     "execution_count": 28,
     "metadata": {},
     "output_type": "execute_result"
    }
   ],
   "source": [
    "_COLUMN = \"Age_range\"\n",
    "column = df[_COLUMN]\n",
    "conditions = [\n",
    "(column == \"Unknown\"),\n",
    "(column == \"Infant\"),\n",
    "(column == \"Child\"),\n",
    "(column == \"Teenager\"),\n",
    "(column == \"Young-Adult\"),\n",
    "(column == \"Adult\"),\n",
    "(column == \"Middle-Aged\"),\n",
    "(column == \"Elderly\")\n",
    "]\n",
    "values = range(0, 8)\n",
    "df[f\"{_COLUMN}\"] = np.select(conditions, values)\n",
    "df[f\"{_COLUMN}\"].value_counts()"
   ]
  },
  {
   "cell_type": "code",
   "execution_count": 29,
   "metadata": {},
   "outputs": [
    {
     "data": {
      "text/plain": [
       "Index(['A', 'B', 'P', 'DA', 'MA', 'MC', 'PA', 'SC', 'SK', 'Age_range',\n",
       "       'Playable', 'Sexualization', 'Romantic_Interest', 'Is_Female'],\n",
       "      dtype='object')"
      ]
     },
     "execution_count": 29,
     "metadata": {},
     "output_type": "execute_result"
    }
   ],
   "source": [
    "df.columns"
   ]
  },
  {
   "cell_type": "markdown",
   "metadata": {},
   "source": [
    "## Data Preparation & Exploration"
   ]
  },
  {
   "cell_type": "code",
   "execution_count": 30,
   "metadata": {},
   "outputs": [],
   "source": [
    "df.to_csv(f\"{_PATH}/characters_cleaned.csv\")"
   ]
  }
 ],
 "metadata": {
  "kernelspec": {
   "display_name": "Python 3.8.8 64-bit ('base')",
   "language": "python",
   "name": "python3"
  },
  "language_info": {
   "codemirror_mode": {
    "name": "ipython",
    "version": 3
   },
   "file_extension": ".py",
   "mimetype": "text/x-python",
   "name": "python",
   "nbconvert_exporter": "python",
   "pygments_lexer": "ipython3",
   "version": "3.8.8 (default, Apr 13 2021, 12:59:45) \n[Clang 10.0.0 ]"
  },
  "orig_nbformat": 4,
  "vscode": {
   "interpreter": {
    "hash": "624c434b4448266ef6b3c5b6c15667705777b54e221aadd916740c58273314d9"
   }
  }
 },
 "nbformat": 4,
 "nbformat_minor": 2
}
