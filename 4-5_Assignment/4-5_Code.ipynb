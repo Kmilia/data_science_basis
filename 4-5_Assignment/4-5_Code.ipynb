{
 "cells": [
  {
   "cell_type": "code",
   "execution_count": 2,
   "metadata": {},
   "outputs": [],
   "source": [
    "import pandas as pd\n",
    "import numpy as np\n",
    "import seaborn as sns\n",
    "from sklearn.model_selection import train_test_split\n",
    "import matplotlib.pyplot as plt\n",
    "import random\n",
    "from sklearn.metrics import accuracy_score, confusion_matrix"
   ]
  },
  {
   "cell_type": "code",
   "execution_count": 3,
   "metadata": {},
   "outputs": [],
   "source": [
    "np.random.seed(42) \n",
    "_PATH_IN = \"4-5_Data\"\n",
    "_PATH_OUT = \"4-5_Output\"\n",
    "_Y_Label = \"Is_Female\""
   ]
  },
  {
   "cell_type": "markdown",
   "metadata": {},
   "source": [
    "# Exploration "
   ]
  },
  {
   "cell_type": "code",
   "execution_count": 4,
   "metadata": {},
   "outputs": [
    {
     "data": {
      "text/plain": [
       "Index(['A', 'B', 'P', 'DA', 'MA', 'MC', 'PA', 'SC', 'SK', 'Age_range',\n",
       "       'Playable', 'Sexualization', 'Romantic_Interest', 'Is_Female'],\n",
       "      dtype='object')"
      ]
     },
     "execution_count": 4,
     "metadata": {},
     "output_type": "execute_result"
    }
   ],
   "source": [
    "df = pd.read_csv(f\"{_PATH_IN}/characters_cleaned.csv\")\n",
    "df.drop(\"Unnamed: 0\", axis=1, inplace=True)\n",
    "df.columns"
   ]
  },
  {
   "cell_type": "code",
   "execution_count": 316,
   "metadata": {},
   "outputs": [
    {
     "data": {
      "text/html": [
       "<div>\n",
       "<style scoped>\n",
       "    .dataframe tbody tr th:only-of-type {\n",
       "        vertical-align: middle;\n",
       "    }\n",
       "\n",
       "    .dataframe tbody tr th {\n",
       "        vertical-align: top;\n",
       "    }\n",
       "\n",
       "    .dataframe thead th {\n",
       "        text-align: right;\n",
       "    }\n",
       "</style>\n",
       "<table border=\"1\" class=\"dataframe\">\n",
       "  <thead>\n",
       "    <tr style=\"text-align: right;\">\n",
       "      <th></th>\n",
       "      <th>A</th>\n",
       "      <th>B</th>\n",
       "      <th>P</th>\n",
       "      <th>DA</th>\n",
       "      <th>MA</th>\n",
       "      <th>MC</th>\n",
       "      <th>PA</th>\n",
       "      <th>SC</th>\n",
       "      <th>SK</th>\n",
       "      <th>Age_range</th>\n",
       "      <th>Playable</th>\n",
       "      <th>Sexualization</th>\n",
       "      <th>Romantic_Interest</th>\n",
       "      <th>Is_Female</th>\n",
       "    </tr>\n",
       "  </thead>\n",
       "  <tbody>\n",
       "    <tr>\n",
       "      <th>0</th>\n",
       "      <td>0</td>\n",
       "      <td>0</td>\n",
       "      <td>1</td>\n",
       "      <td>0</td>\n",
       "      <td>0</td>\n",
       "      <td>0</td>\n",
       "      <td>1</td>\n",
       "      <td>0</td>\n",
       "      <td>0</td>\n",
       "      <td>5</td>\n",
       "      <td>1</td>\n",
       "      <td>0</td>\n",
       "      <td>0.0</td>\n",
       "      <td>1</td>\n",
       "    </tr>\n",
       "    <tr>\n",
       "      <th>1</th>\n",
       "      <td>0</td>\n",
       "      <td>0</td>\n",
       "      <td>1</td>\n",
       "      <td>0</td>\n",
       "      <td>0</td>\n",
       "      <td>0</td>\n",
       "      <td>0</td>\n",
       "      <td>1</td>\n",
       "      <td>0</td>\n",
       "      <td>7</td>\n",
       "      <td>0</td>\n",
       "      <td>0</td>\n",
       "      <td>0.0</td>\n",
       "      <td>1</td>\n",
       "    </tr>\n",
       "    <tr>\n",
       "      <th>2</th>\n",
       "      <td>0</td>\n",
       "      <td>0</td>\n",
       "      <td>1</td>\n",
       "      <td>0</td>\n",
       "      <td>0</td>\n",
       "      <td>0</td>\n",
       "      <td>0</td>\n",
       "      <td>1</td>\n",
       "      <td>0</td>\n",
       "      <td>5</td>\n",
       "      <td>0</td>\n",
       "      <td>0</td>\n",
       "      <td>0.0</td>\n",
       "      <td>1</td>\n",
       "    </tr>\n",
       "    <tr>\n",
       "      <th>3</th>\n",
       "      <td>0</td>\n",
       "      <td>1</td>\n",
       "      <td>0</td>\n",
       "      <td>0</td>\n",
       "      <td>0</td>\n",
       "      <td>1</td>\n",
       "      <td>0</td>\n",
       "      <td>0</td>\n",
       "      <td>0</td>\n",
       "      <td>3</td>\n",
       "      <td>0</td>\n",
       "      <td>0</td>\n",
       "      <td>0.0</td>\n",
       "      <td>1</td>\n",
       "    </tr>\n",
       "    <tr>\n",
       "      <th>4</th>\n",
       "      <td>1</td>\n",
       "      <td>0</td>\n",
       "      <td>0</td>\n",
       "      <td>0</td>\n",
       "      <td>0</td>\n",
       "      <td>0</td>\n",
       "      <td>0</td>\n",
       "      <td>1</td>\n",
       "      <td>0</td>\n",
       "      <td>5</td>\n",
       "      <td>0</td>\n",
       "      <td>0</td>\n",
       "      <td>0.0</td>\n",
       "      <td>1</td>\n",
       "    </tr>\n",
       "    <tr>\n",
       "      <th>5</th>\n",
       "      <td>0</td>\n",
       "      <td>0</td>\n",
       "      <td>1</td>\n",
       "      <td>0</td>\n",
       "      <td>0</td>\n",
       "      <td>1</td>\n",
       "      <td>0</td>\n",
       "      <td>0</td>\n",
       "      <td>0</td>\n",
       "      <td>5</td>\n",
       "      <td>0</td>\n",
       "      <td>2</td>\n",
       "      <td>1.0</td>\n",
       "      <td>1</td>\n",
       "    </tr>\n",
       "    <tr>\n",
       "      <th>6</th>\n",
       "      <td>0</td>\n",
       "      <td>0</td>\n",
       "      <td>1</td>\n",
       "      <td>1</td>\n",
       "      <td>0</td>\n",
       "      <td>0</td>\n",
       "      <td>0</td>\n",
       "      <td>0</td>\n",
       "      <td>0</td>\n",
       "      <td>3</td>\n",
       "      <td>0</td>\n",
       "      <td>0</td>\n",
       "      <td>0.0</td>\n",
       "      <td>1</td>\n",
       "    </tr>\n",
       "    <tr>\n",
       "      <th>7</th>\n",
       "      <td>0</td>\n",
       "      <td>0</td>\n",
       "      <td>1</td>\n",
       "      <td>1</td>\n",
       "      <td>0</td>\n",
       "      <td>0</td>\n",
       "      <td>0</td>\n",
       "      <td>0</td>\n",
       "      <td>0</td>\n",
       "      <td>0</td>\n",
       "      <td>0</td>\n",
       "      <td>2</td>\n",
       "      <td>0.0</td>\n",
       "      <td>1</td>\n",
       "    </tr>\n",
       "    <tr>\n",
       "      <th>8</th>\n",
       "      <td>0</td>\n",
       "      <td>0</td>\n",
       "      <td>1</td>\n",
       "      <td>1</td>\n",
       "      <td>0</td>\n",
       "      <td>0</td>\n",
       "      <td>0</td>\n",
       "      <td>0</td>\n",
       "      <td>0</td>\n",
       "      <td>2</td>\n",
       "      <td>0</td>\n",
       "      <td>0</td>\n",
       "      <td>0.0</td>\n",
       "      <td>1</td>\n",
       "    </tr>\n",
       "    <tr>\n",
       "      <th>9</th>\n",
       "      <td>0</td>\n",
       "      <td>0</td>\n",
       "      <td>1</td>\n",
       "      <td>0</td>\n",
       "      <td>0</td>\n",
       "      <td>1</td>\n",
       "      <td>0</td>\n",
       "      <td>0</td>\n",
       "      <td>0</td>\n",
       "      <td>5</td>\n",
       "      <td>0</td>\n",
       "      <td>1</td>\n",
       "      <td>1.0</td>\n",
       "      <td>1</td>\n",
       "    </tr>\n",
       "    <tr>\n",
       "      <th>10</th>\n",
       "      <td>0</td>\n",
       "      <td>0</td>\n",
       "      <td>1</td>\n",
       "      <td>1</td>\n",
       "      <td>0</td>\n",
       "      <td>0</td>\n",
       "      <td>0</td>\n",
       "      <td>0</td>\n",
       "      <td>0</td>\n",
       "      <td>2</td>\n",
       "      <td>0</td>\n",
       "      <td>0</td>\n",
       "      <td>0.0</td>\n",
       "      <td>1</td>\n",
       "    </tr>\n",
       "    <tr>\n",
       "      <th>11</th>\n",
       "      <td>0</td>\n",
       "      <td>0</td>\n",
       "      <td>1</td>\n",
       "      <td>1</td>\n",
       "      <td>0</td>\n",
       "      <td>0</td>\n",
       "      <td>0</td>\n",
       "      <td>0</td>\n",
       "      <td>0</td>\n",
       "      <td>0</td>\n",
       "      <td>0</td>\n",
       "      <td>0</td>\n",
       "      <td>0.0</td>\n",
       "      <td>1</td>\n",
       "    </tr>\n",
       "    <tr>\n",
       "      <th>12</th>\n",
       "      <td>0</td>\n",
       "      <td>1</td>\n",
       "      <td>0</td>\n",
       "      <td>0</td>\n",
       "      <td>0</td>\n",
       "      <td>0</td>\n",
       "      <td>0</td>\n",
       "      <td>1</td>\n",
       "      <td>0</td>\n",
       "      <td>0</td>\n",
       "      <td>0</td>\n",
       "      <td>3</td>\n",
       "      <td>1.0</td>\n",
       "      <td>1</td>\n",
       "    </tr>\n",
       "    <tr>\n",
       "      <th>13</th>\n",
       "      <td>0</td>\n",
       "      <td>1</td>\n",
       "      <td>0</td>\n",
       "      <td>0</td>\n",
       "      <td>0</td>\n",
       "      <td>0</td>\n",
       "      <td>0</td>\n",
       "      <td>1</td>\n",
       "      <td>0</td>\n",
       "      <td>0</td>\n",
       "      <td>0</td>\n",
       "      <td>3</td>\n",
       "      <td>0.0</td>\n",
       "      <td>1</td>\n",
       "    </tr>\n",
       "    <tr>\n",
       "      <th>14</th>\n",
       "      <td>0</td>\n",
       "      <td>0</td>\n",
       "      <td>1</td>\n",
       "      <td>0</td>\n",
       "      <td>0</td>\n",
       "      <td>1</td>\n",
       "      <td>0</td>\n",
       "      <td>0</td>\n",
       "      <td>0</td>\n",
       "      <td>0</td>\n",
       "      <td>0</td>\n",
       "      <td>0</td>\n",
       "      <td>0.0</td>\n",
       "      <td>1</td>\n",
       "    </tr>\n",
       "    <tr>\n",
       "      <th>15</th>\n",
       "      <td>0</td>\n",
       "      <td>0</td>\n",
       "      <td>1</td>\n",
       "      <td>0</td>\n",
       "      <td>0</td>\n",
       "      <td>0</td>\n",
       "      <td>0</td>\n",
       "      <td>1</td>\n",
       "      <td>0</td>\n",
       "      <td>5</td>\n",
       "      <td>0</td>\n",
       "      <td>0</td>\n",
       "      <td>0.0</td>\n",
       "      <td>1</td>\n",
       "    </tr>\n",
       "    <tr>\n",
       "      <th>16</th>\n",
       "      <td>0</td>\n",
       "      <td>0</td>\n",
       "      <td>1</td>\n",
       "      <td>0</td>\n",
       "      <td>0</td>\n",
       "      <td>0</td>\n",
       "      <td>0</td>\n",
       "      <td>1</td>\n",
       "      <td>0</td>\n",
       "      <td>0</td>\n",
       "      <td>0</td>\n",
       "      <td>0</td>\n",
       "      <td>0.0</td>\n",
       "      <td>1</td>\n",
       "    </tr>\n",
       "    <tr>\n",
       "      <th>17</th>\n",
       "      <td>0</td>\n",
       "      <td>0</td>\n",
       "      <td>1</td>\n",
       "      <td>0</td>\n",
       "      <td>0</td>\n",
       "      <td>0</td>\n",
       "      <td>0</td>\n",
       "      <td>1</td>\n",
       "      <td>0</td>\n",
       "      <td>0</td>\n",
       "      <td>0</td>\n",
       "      <td>0</td>\n",
       "      <td>0.0</td>\n",
       "      <td>1</td>\n",
       "    </tr>\n",
       "    <tr>\n",
       "      <th>18</th>\n",
       "      <td>0</td>\n",
       "      <td>0</td>\n",
       "      <td>1</td>\n",
       "      <td>0</td>\n",
       "      <td>0</td>\n",
       "      <td>0</td>\n",
       "      <td>0</td>\n",
       "      <td>1</td>\n",
       "      <td>0</td>\n",
       "      <td>5</td>\n",
       "      <td>0</td>\n",
       "      <td>0</td>\n",
       "      <td>0.0</td>\n",
       "      <td>1</td>\n",
       "    </tr>\n",
       "    <tr>\n",
       "      <th>19</th>\n",
       "      <td>0</td>\n",
       "      <td>0</td>\n",
       "      <td>1</td>\n",
       "      <td>0</td>\n",
       "      <td>0</td>\n",
       "      <td>0</td>\n",
       "      <td>0</td>\n",
       "      <td>1</td>\n",
       "      <td>0</td>\n",
       "      <td>0</td>\n",
       "      <td>0</td>\n",
       "      <td>0</td>\n",
       "      <td>0.0</td>\n",
       "      <td>1</td>\n",
       "    </tr>\n",
       "  </tbody>\n",
       "</table>\n",
       "</div>"
      ],
      "text/plain": [
       "    A  B  P  DA  MA  MC  PA  SC  SK  Age_range  Playable  Sexualization  \\\n",
       "0   0  0  1   0   0   0   1   0   0          5         1              0   \n",
       "1   0  0  1   0   0   0   0   1   0          7         0              0   \n",
       "2   0  0  1   0   0   0   0   1   0          5         0              0   \n",
       "3   0  1  0   0   0   1   0   0   0          3         0              0   \n",
       "4   1  0  0   0   0   0   0   1   0          5         0              0   \n",
       "5   0  0  1   0   0   1   0   0   0          5         0              2   \n",
       "6   0  0  1   1   0   0   0   0   0          3         0              0   \n",
       "7   0  0  1   1   0   0   0   0   0          0         0              2   \n",
       "8   0  0  1   1   0   0   0   0   0          2         0              0   \n",
       "9   0  0  1   0   0   1   0   0   0          5         0              1   \n",
       "10  0  0  1   1   0   0   0   0   0          2         0              0   \n",
       "11  0  0  1   1   0   0   0   0   0          0         0              0   \n",
       "12  0  1  0   0   0   0   0   1   0          0         0              3   \n",
       "13  0  1  0   0   0   0   0   1   0          0         0              3   \n",
       "14  0  0  1   0   0   1   0   0   0          0         0              0   \n",
       "15  0  0  1   0   0   0   0   1   0          5         0              0   \n",
       "16  0  0  1   0   0   0   0   1   0          0         0              0   \n",
       "17  0  0  1   0   0   0   0   1   0          0         0              0   \n",
       "18  0  0  1   0   0   0   0   1   0          5         0              0   \n",
       "19  0  0  1   0   0   0   0   1   0          0         0              0   \n",
       "\n",
       "    Romantic_Interest  Is_Female  \n",
       "0                 0.0          1  \n",
       "1                 0.0          1  \n",
       "2                 0.0          1  \n",
       "3                 0.0          1  \n",
       "4                 0.0          1  \n",
       "5                 1.0          1  \n",
       "6                 0.0          1  \n",
       "7                 0.0          1  \n",
       "8                 0.0          1  \n",
       "9                 1.0          1  \n",
       "10                0.0          1  \n",
       "11                0.0          1  \n",
       "12                1.0          1  \n",
       "13                0.0          1  \n",
       "14                0.0          1  \n",
       "15                0.0          1  \n",
       "16                0.0          1  \n",
       "17                0.0          1  \n",
       "18                0.0          1  \n",
       "19                0.0          1  "
      ]
     },
     "execution_count": 316,
     "metadata": {},
     "output_type": "execute_result"
    }
   ],
   "source": [
    "df.head(20)"
   ]
  },
  {
   "cell_type": "code",
   "execution_count": 318,
   "metadata": {},
   "outputs": [
    {
     "name": "stdout",
     "output_type": "stream",
     "text": [
      "A:\n",
      "\t Mean              : 0.22\n",
      "\t Median            : 0\n",
      "\t Standard Deviation: 0.41\n",
      "\t Min               : 0\n",
      "\t Max               : 1\n",
      "0    467\n",
      "1    129\n",
      "Name: A, dtype: int64\n",
      "\n",
      "B:\n",
      "\t Mean              : 0.12\n",
      "\t Median            : 0\n",
      "\t Standard Deviation: 0.33\n",
      "\t Min               : 0\n",
      "\t Max               : 1\n",
      "0    523\n",
      "1     73\n",
      "Name: B, dtype: int64\n",
      "\n",
      "P:\n",
      "\t Mean              : 0.66\n",
      "\t Median            : 1\n",
      "\t Standard Deviation: 0.47\n",
      "\t Min               : 0\n",
      "\t Max               : 1\n",
      "1    394\n",
      "0    202\n",
      "Name: P, dtype: int64\n",
      "\n",
      "DA:\n",
      "\t Mean              : 0.03\n",
      "\t Median            : 0\n",
      "\t Standard Deviation: 0.17\n",
      "\t Min               : 0\n",
      "\t Max               : 1\n",
      "0    578\n",
      "1     18\n",
      "Name: DA, dtype: int64\n",
      "\n",
      "MA:\n",
      "\t Mean              : 0.082\n",
      "\t Median            : 0\n",
      "\t Standard Deviation: 0.27\n",
      "\t Min               : 0\n",
      "\t Max               : 1\n",
      "0    547\n",
      "1     49\n",
      "Name: MA, dtype: int64\n",
      "\n",
      "MC:\n",
      "\t Mean              : 0.33\n",
      "\t Median            : 0\n",
      "\t Standard Deviation: 0.47\n",
      "\t Min               : 0\n",
      "\t Max               : 1\n",
      "0    398\n",
      "1    198\n",
      "Name: MC, dtype: int64\n",
      "\n",
      "PA:\n",
      "\t Mean              : 0.1\n",
      "\t Median            : 0\n",
      "\t Standard Deviation: 0.3\n",
      "\t Min               : 0\n",
      "\t Max               : 1\n",
      "0    535\n",
      "1     61\n",
      "Name: PA, dtype: int64\n",
      "\n",
      "SC:\n",
      "\t Mean              : 0.43\n",
      "\t Median            : 0\n",
      "\t Standard Deviation: 0.5\n",
      "\t Min               : 0\n",
      "\t Max               : 1\n",
      "0    339\n",
      "1    257\n",
      "Name: SC, dtype: int64\n",
      "\n",
      "SK:\n",
      "\t Mean              : 0.022\n",
      "\t Median            : 0\n",
      "\t Standard Deviation: 0.15\n",
      "\t Min               : 0\n",
      "\t Max               : 1\n",
      "0    583\n",
      "1     13\n",
      "Name: SK, dtype: int64\n",
      "\n",
      "Age_range:\n",
      "\t Mean              : 2.8\n",
      "\t Median            : 3\n",
      "\t Standard Deviation: 2.5\n",
      "\t Min               : 0\n",
      "\t Max               : 7\n",
      "5    259\n",
      "0    228\n",
      "3     42\n",
      "2     35\n",
      "7     29\n",
      "1      3\n",
      "Name: Age_range, dtype: int64\n",
      "\n",
      "Playable:\n",
      "\t Mean              : 0.18\n",
      "\t Median            : 0\n",
      "\t Standard Deviation: 0.38\n",
      "\t Min               : 0\n",
      "\t Max               : 1\n",
      "0    491\n",
      "1    105\n",
      "Name: Playable, dtype: int64\n",
      "\n",
      "Sexualization:\n",
      "\t Mean              : 0.091\n",
      "\t Median            : 0\n",
      "\t Standard Deviation: 0.4\n",
      "\t Min               : 0\n",
      "\t Max               : 3\n",
      "0    562\n",
      "1     17\n",
      "2     14\n",
      "3      3\n",
      "Name: Sexualization, dtype: int64\n",
      "\n",
      "Romantic_Interest:\n",
      "\t Mean              : 0.054\n",
      "\t Median            : 0\n",
      "\t Standard Deviation: 0.2\n",
      "\t Min               : 0\n",
      "\t Max               : 1\n",
      "0.0    549\n",
      "0.5     30\n",
      "1.0     17\n",
      "Name: Romantic_Interest, dtype: int64\n",
      "\n",
      "Is_Female:\n",
      "\t Mean              : 0.34\n",
      "\t Median            : 0\n",
      "\t Standard Deviation: 0.47\n",
      "\t Min               : 0\n",
      "\t Max               : 1\n",
      "0    393\n",
      "1    203\n",
      "Name: Is_Female, dtype: int64\n",
      "\n"
     ]
    }
   ],
   "source": [
    "for numerical in df.columns:\n",
    "    print(f\"{numerical}:\")\n",
    "    print(f\"\\t Mean              : {'{0:.2g}'.format(df[numerical].mean())}\")\n",
    "    print(f\"\\t Median            : {'{0:.2g}'.format(df[numerical].median())}\")\n",
    "    print(f\"\\t Standard Deviation: {'{0:.2g}'.format(df[numerical].std())}\")\n",
    "    print(f\"\\t Min               : {'{0:.2g}'.format(df[numerical].min())}\")\n",
    "    print(f\"\\t Max               : {'{0:.2g}'.format(df[numerical].max())}\")\n",
    "    print(df[numerical].value_counts())\n",
    "    print()"
   ]
  },
  {
   "cell_type": "code",
   "execution_count": 321,
   "metadata": {},
   "outputs": [
    {
     "data": {
      "image/png": "[encoded data removed]",
      "text/plain": [
       "<Figure size 1800x720 with 2 Axes>"
      ]
     },
     "metadata": {
      "needs_background": "light"
     },
     "output_type": "display_data"
    }
   ],
   "source": [
    "plt.figure(figsize=(25,10))\n",
    "plot = sns.heatmap(df.corr(), cmap=\"YlGnBu\", annot=True)\n",
    "fig = plot.get_figure()\n",
    "fig.savefig(f\"{_PATH_OUT}/HeatMap.png\") "
   ]
  },
  {
   "cell_type": "code",
   "execution_count": 331,
   "metadata": {},
   "outputs": [
    {
     "name": "stderr",
     "output_type": "stream",
     "text": [
      "/Users/cameliaguerraoui/.pyenv/versions/anaconda3-2021.05/lib/python3.8/site-packages/seaborn/categorical.py:1296: UserWarning: 88.6% of the points cannot be placed; you may want to decrease the size of the markers or use stripplot.\n",
      "  warnings.warn(msg, UserWarning)\n"
     ]
    },
    {
     "data": {
      "image/png": "[encoded data removed]",
      "text/plain": [
       "<Figure size 1080x720 with 1 Axes>"
      ]
     },
     "metadata": {
      "needs_background": "light"
     },
     "output_type": "display_data"
    }
   ],
   "source": [
    "plt.figure(figsize=(15,10))\n",
    "fig = sns.swarmplot(data=df, x=\"Sexualization\", y=\"Romantic_Interest\", hue=\"Is_Female\")\n",
    "fig.set_xticks(np.arange(0, len(df[\"Sexualization\"].unique())))\n",
    "fig.set_yticks([0, 0.5, 1])\n",
    "fig.set_yticklabels([\"No\", \"Opt\", \"Yes\"])\n",
    "plt.xticks(rotation=90)\n",
    "plt.show()"
   ]
  },
  {
   "cell_type": "markdown",
   "metadata": {},
   "source": [
    "# Classification Modeling"
   ]
  },
  {
   "cell_type": "markdown",
   "metadata": {},
   "source": [
    "## Separation"
   ]
  },
  {
   "cell_type": "code",
   "execution_count": 5,
   "metadata": {},
   "outputs": [
    {
     "name": "stdout",
     "output_type": "stream",
     "text": [
      "Selected Ratio: 1/4\n",
      "\n",
      "Total Training Set:  447\n",
      "Count Training Set: \n",
      "0    294\n",
      "1    153\n",
      "Name: Is_Female, dtype: int64\n",
      "\n",
      "Total Test Set:  149\n",
      "Count Test Set: \n",
      "0    99\n",
      "1    50\n",
      "Name: Is_Female, dtype: int64\n"
     ]
    }
   ],
   "source": [
    "X = df.drop(_Y_Label, axis=1)\n",
    "y = df[_Y_Label]\n",
    "X_train, X_test, y_train, y_test = train_test_split(X, y, test_size=1/4)\n",
    "\n",
    "print(\"Selected Ratio: 1/4\")\n",
    "print()\n",
    "print(\"Total Training Set: \", len(X_train))\n",
    "print(\"Count Training Set: \")\n",
    "print(y_train.value_counts())\n",
    "print()\n",
    "print(\"Total Test Set: \", len(X_test))\n",
    "print(\"Count Test Set: \")\n",
    "print(y_test.value_counts())"
   ]
  },
  {
   "cell_type": "code",
   "execution_count": 6,
   "metadata": {},
   "outputs": [],
   "source": [
    "label_att = y_train\n",
    "label_att_test = y_test\n",
    "regular_att = X_train\n",
    "regular_att_test = X_test"
   ]
  },
  {
   "cell_type": "code",
   "execution_count": 7,
   "metadata": {},
   "outputs": [],
   "source": [
    "def _train(classifier, verbose= True) -> None:\n",
    "    classifier.fit(regular_att, label_att)\n",
    "    prediction = classifier.predict(regular_att_test)\n",
    "    accuracy = accuracy_score(prediction, label_att_test)\n",
    "    conf_matrix = confusion_matrix(prediction, label_att_test)\n",
    "    if verbose:\n",
    "        print(f'\\nAccuracy: {accuracy*100:.3f}%')\n",
    "        print(conf_matrix)\n",
    "    return accuracy"
   ]
  },
  {
   "cell_type": "markdown",
   "metadata": {},
   "source": [
    "## Decision Tree"
   ]
  },
  {
   "cell_type": "code",
   "execution_count": 10,
   "metadata": {},
   "outputs": [
    {
     "name": "stdout",
     "output_type": "stream",
     "text": [
      "\n",
      "Accuracy: 66.443%\n",
      "[[99 50]\n",
      " [ 0  0]]\n",
      "\n"
     ]
    },
    {
     "data": {
      "image/png": "[encoded data removed]",
      "text/plain": [
       "<Figure size 1800x720 with 1 Axes>"
      ]
     },
     "metadata": {
      "needs_background": "light"
     },
     "output_type": "display_data"
    }
   ],
   "source": [
    "from sklearn.tree import DecisionTreeClassifier\n",
    "from sklearn import tree\n",
    "\n",
    "decision_tree = DecisionTreeClassifier(\n",
    "    criterion=\"gini\",\n",
    "    max_depth=4,\n",
    "    min_samples_leaf=100,\n",
    "    min_impurity_decrease=0.003\n",
    "    )\n",
    "\n",
    "_train(decision_tree)\n",
    "\n",
    "plt.figure(figsize=(25,10))\n",
    "tree.plot_tree(decision_tree,\n",
    "                feature_names=X_train.columns,\n",
    "               class_names=[\"Male\", \"Female\"],\n",
    "               filled = True,\n",
    "               rounded = True,\n",
    "               fontsize = 15)\n",
    "print()"
   ]
  },
  {
   "cell_type": "markdown",
   "metadata": {},
   "source": [
    "## k-Nearest Neighbor"
   ]
  },
  {
   "cell_type": "code",
   "execution_count": 423,
   "metadata": {},
   "outputs": [
    {
     "name": "stdout",
     "output_type": "stream",
     "text": [
      "\n",
      "Accuracy: 71.141%\n",
      "[[98 42]\n",
      " [ 1  8]]\n"
     ]
    },
    {
     "data": {
      "text/plain": [
       "0.7114093959731543"
      ]
     },
     "execution_count": 423,
     "metadata": {},
     "output_type": "execute_result"
    }
   ],
   "source": [
    "from sklearn.neighbors import KNeighborsClassifier\n",
    "\n",
    "neighbors = KNeighborsClassifier(\n",
    "    n_neighbors=16,\n",
    "    p=1,\n",
    ")\n",
    "_train(neighbors)"
   ]
  },
  {
   "cell_type": "markdown",
   "metadata": {},
   "source": [
    "## Naives Bayes"
   ]
  },
  {
   "cell_type": "code",
   "execution_count": 425,
   "metadata": {},
   "outputs": [
    {
     "name": "stdout",
     "output_type": "stream",
     "text": [
      "\n",
      "Accuracy: 71.812%\n",
      "[[96 39]\n",
      " [ 3 11]]\n",
      "Category Count: [array([[212.,  82.],\n",
      "       [134.,  19.]]), array([[267.,  27.],\n",
      "       [132.,  21.]]), array([[109., 185.],\n",
      "       [ 40., 113.]]), array([[287.,   7.],\n",
      "       [150.,   3.]]), array([[266.,  28.],\n",
      "       [144.,   9.]]), array([[209.,  85.],\n",
      "       [ 91.,  62.]]), array([[258.,  36.],\n",
      "       [145.,   8.]]), array([[161., 133.],\n",
      "       [ 87.,  66.]]), array([[289.,   5.],\n",
      "       [148.,   5.]]), array([[102.,   1.,  18.,  15.,   0., 138.,   0.,  20.],\n",
      "       [ 64.,   1.,   7.,  16.,   0.,  61.,   0.,   4.]]), array([[239.,  55.],\n",
      "       [134.,  19.]]), array([[289.,   4.,   1.,   0.],\n",
      "       [131.,   9.,  10.,   3.]]), array([[292.,   2.],\n",
      "       [142.,  11.]])]\n",
      "Class Count:  [294. 153.]\n"
     ]
    }
   ],
   "source": [
    "from sklearn.naive_bayes import CategoricalNB\n",
    "from sklearn.naive_bayes import GaussianNB\n",
    "\n",
    "bayes = GaussianNB()\n",
    "\n",
    "bayes = CategoricalNB(\n",
    "    alpha=7,\n",
    ")\n",
    "_train(bayes)\n",
    "print(\"Category Count:\", bayes.category_count_)\n",
    "print(\"Class Count: \", bayes.class_count_)"
   ]
  },
  {
   "cell_type": "markdown",
   "metadata": {},
   "source": [
    "## Artificial Neural Network"
   ]
  },
  {
   "cell_type": "code",
   "execution_count": 644,
   "metadata": {},
   "outputs": [
    {
     "data": {
      "text/plain": [
       "14"
      ]
     },
     "execution_count": 644,
     "metadata": {},
     "output_type": "execute_result"
    }
   ],
   "source": [
    "len(regular_att.columns)+1"
   ]
  },
  {
   "cell_type": "code",
   "execution_count": 763,
   "metadata": {},
   "outputs": [
    {
     "name": "stdout",
     "output_type": "stream",
     "text": [
      "\n",
      "Accuracy: 71.141%\n",
      "[[98 42]\n",
      " [ 1  8]]\n"
     ]
    },
    {
     "data": {
      "text/plain": [
       "0.7114093959731543"
      ]
     },
     "execution_count": 763,
     "metadata": {},
     "output_type": "execute_result"
    }
   ],
   "source": [
    "from sklearn.neural_network import MLPClassifier\n",
    "\n",
    "mlp = MLPClassifier(\n",
    "    hidden_layer_sizes=(10,6),\n",
    "    activation=\"relu\",\n",
    "    learning_rate_init=0.1,\n",
    "    momentum=0.9,\n",
    "    max_iter=200,\n",
    "    epsilon=1e-6\n",
    ")\n",
    "_train(mlp)"
   ]
  },
  {
   "cell_type": "markdown",
   "metadata": {},
   "source": [
    "## Support Vector Machine"
   ]
  },
  {
   "cell_type": "code",
   "execution_count": 734,
   "metadata": {},
   "outputs": [
    {
     "name": "stdout",
     "output_type": "stream",
     "text": [
      "\n",
      "Accuracy: 70.470%\n",
      "[[99 44]\n",
      " [ 0  6]]\n"
     ]
    }
   ],
   "source": [
    "from sklearn.svm import SVC\n",
    "\n",
    "svc = SVC(\n",
    "    kernel=\"rbf\",\n",
    "    C=1,\n",
    ")\n",
    "accuracy = _train(svc)"
   ]
  },
  {
   "cell_type": "markdown",
   "metadata": {},
   "source": [
    "## Boosting"
   ]
  },
  {
   "cell_type": "code",
   "execution_count": 824,
   "metadata": {},
   "outputs": [
    {
     "name": "stdout",
     "output_type": "stream",
     "text": [
      "\n",
      "Accuracy: 72.483%\n",
      "[[97 39]\n",
      " [ 2 11]]\n"
     ]
    },
    {
     "data": {
      "text/plain": [
       "0.7248322147651006"
      ]
     },
     "execution_count": 824,
     "metadata": {},
     "output_type": "execute_result"
    }
   ],
   "source": [
    "from sklearn.ensemble import AdaBoostClassifier\n",
    "\n",
    "boosting = AdaBoostClassifier(\n",
    "    base_estimator=DecisionTreeClassifier(max_depth=1),\n",
    "    n_estimators=11\n",
    "    )\n",
    "_train(boosting)"
   ]
  },
  {
   "cell_type": "code",
   "execution_count": 775,
   "metadata": {},
   "outputs": [
    {
     "data": {
      "text/plain": [
       "[0.697986577181208,\n",
       " 0.7181208053691275,\n",
       " 0.7181208053691275,\n",
       " 0.7114093959731543,\n",
       " 0.7046979865771812,\n",
       " 0.7046979865771812,\n",
       " 0.7046979865771812,\n",
       " 0.7046979865771812,\n",
       " 0.7046979865771812,\n",
       " 0.7046979865771812]"
      ]
     },
     "execution_count": 775,
     "metadata": {},
     "output_type": "execute_result"
    }
   ],
   "source": [
    "t = []\n",
    "for i in range(1000, 2000, 100):\n",
    "    boosting = AdaBoostClassifier(\n",
    "        base_estimator=bayes,\n",
    "        n_estimators=i,\n",
    "        )\n",
    "    t.append(_train(boosting, False))\n",
    "\n",
    "t"
   ]
  },
  {
   "cell_type": "code",
   "execution_count": 778,
   "metadata": {},
   "outputs": [
    {
     "name": "stdout",
     "output_type": "stream",
     "text": [
      "\n",
      "Accuracy: 71.812%\n",
      "[[95 38]\n",
      " [ 4 12]]\n"
     ]
    },
    {
     "data": {
      "text/plain": [
       "0.7181208053691275"
      ]
     },
     "execution_count": 778,
     "metadata": {},
     "output_type": "execute_result"
    }
   ],
   "source": [
    "boosting = AdaBoostClassifier(\n",
    "    base_estimator=bayes,\n",
    "    n_estimators=1100,\n",
    "    )\n",
    "_train(boosting)\n"
   ]
  },
  {
   "cell_type": "markdown",
   "metadata": {},
   "source": [
    "## Random Forest"
   ]
  },
  {
   "cell_type": "code",
   "execution_count": 792,
   "metadata": {},
   "outputs": [
    {
     "data": {
      "text/plain": [
       "[0.6375838926174496,\n",
       " 0.6577181208053692,\n",
       " 0.6577181208053692,\n",
       " 0.6510067114093959,\n",
       " 0.6577181208053692,\n",
       " 0.6375838926174496,\n",
       " 0.6442953020134228,\n",
       " 0.6644295302013423,\n",
       " 0.6711409395973155]"
      ]
     },
     "execution_count": 792,
     "metadata": {},
     "output_type": "execute_result"
    }
   ],
   "source": [
    "from sklearn.ensemble import RandomForestClassifier\n",
    "t = []\n",
    "for i in range(10, 100, 10):\n",
    "    random_forest = RandomForestClassifier(\n",
    "        n_estimators=i,\n",
    "        max_features=None, #it means sqrt(n_features)\n",
    "        bootstrap=True,\n",
    "        max_samples=3,\n",
    "    )\n",
    "    t.append(_train(random_forest, False))\n",
    "\n",
    "t"
   ]
  },
  {
   "cell_type": "code",
   "execution_count": 863,
   "metadata": {},
   "outputs": [
    {
     "name": "stdout",
     "output_type": "stream",
     "text": [
      "\n",
      "Accuracy: 66.443%\n",
      "[[99 50]\n",
      " [ 0  0]]\n"
     ]
    },
    {
     "data": {
      "text/plain": [
       "0.6644295302013423"
      ]
     },
     "execution_count": 863,
     "metadata": {},
     "output_type": "execute_result"
    }
   ],
   "source": [
    "random_forest = RandomForestClassifier(\n",
    "    criterion=\"gini\",\n",
    "    max_depth=4,\n",
    "    min_samples_leaf=24,\n",
    "    min_impurity_decrease=0.003\n",
    "    )\n",
    "_train(random_forest)"
   ]
  },
  {
   "cell_type": "code",
   "execution_count": 861,
   "metadata": {},
   "outputs": [
    {
     "name": "stdout",
     "output_type": "stream",
     "text": [
      "\n",
      "Accuracy: 67.114%\n",
      "[[92 42]\n",
      " [ 7  8]]\n"
     ]
    },
    {
     "data": {
      "text/plain": [
       "0.6711409395973155"
      ]
     },
     "execution_count": 861,
     "metadata": {},
     "output_type": "execute_result"
    }
   ],
   "source": [
    "random_forest = RandomForestClassifier(\n",
    "    max_features=None\n",
    "    )\n",
    "_train(random_forest)"
   ]
  },
  {
   "cell_type": "markdown",
   "metadata": {},
   "source": [
    "## Stacking"
   ]
  },
  {
   "cell_type": "code",
   "execution_count": 842,
   "metadata": {},
   "outputs": [
    {
     "name": "stdout",
     "output_type": "stream",
     "text": [
      "\n",
      "Accuracy: 68.456%\n",
      "[[98 46]\n",
      " [ 1  4]]\n"
     ]
    },
    {
     "data": {
      "text/plain": [
       "0.6845637583892618"
      ]
     },
     "execution_count": 842,
     "metadata": {},
     "output_type": "execute_result"
    }
   ],
   "source": [
    "from sklearn.ensemble import StackingClassifier\n",
    "\n",
    "classifier = StackingClassifier(\n",
    "    estimators=[\n",
    "    (\"RandomForestClassifier\", random_forest),\n",
    "    ('Boosting', boosting),\n",
    "    ('Support Vector Machine', svc),\n",
    "    ('Artificial Neural Network', mlp),\n",
    "    ('Naives Bayes', bayes),\n",
    "    ('K Nearest Neighbor', neighbors),\n",
    "    ('Decision Tree', decision_tree)\n",
    "    ], \n",
    "    final_estimator=DecisionTreeClassifier(max_depth=2)\n",
    "    )\n",
    "\n",
    "_train(classifier)"
   ]
  },
  {
   "cell_type": "code",
   "execution_count": 858,
   "metadata": {},
   "outputs": [
    {
     "name": "stdout",
     "output_type": "stream",
     "text": [
      "\n",
      "Accuracy: 71.141%\n",
      "[[98 42]\n",
      " [ 1  8]]\n"
     ]
    },
    {
     "data": {
      "text/plain": [
       "0.7114093959731543"
      ]
     },
     "execution_count": 858,
     "metadata": {},
     "output_type": "execute_result"
    }
   ],
   "source": [
    "classifier = StackingClassifier(\n",
    "    estimators=[\n",
    "        ('Boosting', boosting),\n",
    "        ('Support Vector Machine', svc),\n",
    "        ('Naives Bayes', bayes),\n",
    "        ('K Nearest Neighbor', neighbors),\n",
    "        ('Decision Tree', decision_tree)\n",
    "    ], \n",
    "    final_estimator = AdaBoostClassifier(\n",
    "            base_estimator=DecisionTreeClassifier(max_depth=1),\n",
    "            n_estimators=11\n",
    "        )\n",
    "    )\n",
    "\n",
    "_train(classifier)"
   ]
  }
 ],
 "metadata": {
  "kernelspec": {
   "display_name": "Python 3.8.8 64-bit ('base')",
   "language": "python",
   "name": "python3"
  },
  "language_info": {
   "codemirror_mode": {
    "name": "ipython",
    "version": 3
   },
   "file_extension": ".py",
   "mimetype": "text/x-python",
   "name": "python",
   "nbconvert_exporter": "python",
   "pygments_lexer": "ipython3",
   "version": "3.8.8 (default, Apr 13 2021, 12:59:45) \n[Clang 10.0.0 ]"
  },
  "orig_nbformat": 4,
  "vscode": {
   "interpreter": {
    "hash": "624c434b4448266ef6b3c5b6c15667705777b54e221aadd916740c58273314d9"
   }
  }
 },
 "nbformat": 4,
 "nbformat_minor": 2
}
