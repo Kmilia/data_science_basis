{
 "cells": [
  {
   "cell_type": "code",
   "execution_count": 17,
   "metadata": {},
   "outputs": [
    {
     "name": "stderr",
     "output_type": "stream",
     "text": [
      "[nltk_data] Downloading package stopwords to\n",
      "[nltk_data]     /Users/cameliaguerraoui/nltk_data...\n",
      "[nltk_data]   Package stopwords is already up-to-date!\n"
     ]
    }
   ],
   "source": [
    "import pandas as pd\n",
    "import numpy as np\n",
    "import matplotlib.pyplot as plt\n",
    "import seaborn as sns\n",
    "import sklearn\n",
    "import nltk\n",
    "import re\n",
    "from nltk.tokenize import word_tokenize\n",
    "from nltk.tokenize import RegexpTokenizer\n",
    "from nltk.corpus import stopwords\n",
    "from nltk.stem.porter import PorterStemmer\n",
    "from sklearn.feature_extraction.text import TfidfVectorizer\n",
    "from sklearn.cluster import AgglomerativeClustering, KMeans, Birch \n",
    "from nltk.probability import FreqDist\n",
    "from collections import Counter\n",
    "from functools import reduce\n",
    "nltk.download('stopwords')\n",
    "en_stopwords = set(stopwords.words('english'))"
   ]
  },
  {
   "cell_type": "code",
   "execution_count": 18,
   "metadata": {},
   "outputs": [],
   "source": [
    "_TEXT = \"text\"\n",
    "_LABEL = \"name\"\n",
    "_PATH = \"8-9_Data\"\n",
    "_CLUSTER = \"cluster\""
   ]
  },
  {
   "attachments": {},
   "cell_type": "markdown",
   "metadata": {},
   "source": [
    "# Data Exploration"
   ]
  },
  {
   "cell_type": "code",
   "execution_count": 19,
   "metadata": {},
   "outputs": [],
   "source": [
    "import requests\n",
    "from bs4 import BeautifulSoup\n",
    "\n",
    "url_list = [\n",
    "    ['Akumaki', 'https://en.wikipedia.org/wiki/Akumaki'],\n",
    "    ['Amanatto', 'https://en.wikipedia.org/wiki/Amanatt%C5%8D'],\n",
    "    ['Arare', 'https://en.wikipedia.org/wiki/Arare_(food)'],\n",
    "    ['Beika', 'https://en.wikipedia.org/wiki/Beika'],\n",
    "    ['Botamochi', 'https://en.wikipedia.org/wiki/Botamochi'],\n",
    "    ['Daifuku', 'https://en.wikipedia.org/wiki/Daifuku'],\n",
    "    ['Dango', 'https://en.wikipedia.org/wiki/Dango'],\n",
    "    ['Dorayaki', 'https://en.wikipedia.org/wiki/Dorayaki'],\n",
    "    ['Gionbo', 'https://en.wikipedia.org/wiki/Gionb%C5%8D'],\n",
    "    ['Gyuhi', 'https://en.wikipedia.org/wiki/Gy%C5%ABhi'],\n",
    "    ['Hanabiramochi', 'https://en.wikipedia.org/wiki/Hanabiramochi'],\n",
    "    ['Higashi', 'https://en.wikipedia.org/wiki/Higashi_(food)'],\n",
    "    ['Hishi', 'https://en.wikipedia.org/wiki/Hishi_mochi'],\n",
    "    ['Imagawayaki', 'https://en.wikipedia.org/wiki/Imagawayaki'],\n",
    "    ['Karinto', 'https://en.wikipedia.org/wiki/Karint%C5%8D'],\n",
    "    ['Konpeito', 'https://en.wikipedia.org/wiki/Konpeit%C5%8D'],\n",
    "    ['Kuzumochi', 'https://en.wikipedia.org/wiki/Kuzumochi'],\n",
    "    ['Manju', 'https://en.wikipedia.org/wiki/Manj%C5%AB'],\n",
    "    ['Mizuame', 'https://en.wikipedia.org/wiki/Mizuame'],\n",
    "    ['Monaka', 'https://en.wikipedia.org/wiki/Monaka'],\n",
    "    ['Namagashi', 'https://en.wikipedia.org/wiki/Namagashi'],\n",
    "    ['Sakuramochi', 'https://en.wikipedia.org/wiki/Sakuramochi'],\n",
    "    ['Senbei', 'https://en.wikipedia.org/wiki/Senbei'],\n",
    "    ['Taiyaki', 'https://en.wikipedia.org/wiki/Taiyaki'],\n",
    "    ['Tokoroten', 'https://en.wikipedia.org/wiki/Tokoroten'],\n",
    "    ['Uiro', 'https://en.wikipedia.org/wiki/Uir%C5%8D'],\n",
    "    ['Warabimochi', 'https://en.wikipedia.org/wiki/Warabimochi'],\n",
    "    ['Wasanbon', 'https://en.wikipedia.org/wiki/Wasanbon'],\n",
    "    ['Yatsuhashi', 'https://en.wikipedia.org/wiki/Yatsuhashi'],\n",
    "    ['Yokan', 'https://en.wikipedia.org/wiki/Y%C5%8Dkan'],\n",
    "    ['Yubeshi', 'https://en.wikipedia.org/wiki/Yubeshi']\n",
    "]\n",
    "\n",
    "url = pd.DataFrame(url_list, columns=[_LABEL, _TEXT])\n",
    "\n",
    "url[_TEXT] = [BeautifulSoup(requests.get(url).content).get_text() for url in url[_TEXT]]\n",
    "url.to_csv(f\"{_PATH}/wagashi.csv\")"
   ]
  },
  {
   "cell_type": "code",
   "execution_count": 66,
   "metadata": {},
   "outputs": [],
   "source": [
    "df = url.copy()"
   ]
  },
  {
   "cell_type": "code",
   "execution_count": 77,
   "metadata": {},
   "outputs": [],
   "source": [
    "df = pd.read_csv(f\"{_PATH}/wagashi_minimal.csv\")\n",
    "\n",
    "## Tokenize\n",
    "regexp = RegexpTokenizer(\"\\w+\")\n",
    "df[_TEXT] = df[_TEXT].apply(regexp.tokenize)\n",
    "\n",
    "## Lower case\n",
    "df[_TEXT] = df[_TEXT].apply(lambda x:[item.lower() for item in x])\n",
    "\n",
    "## Removing Stopwords\n",
    "df[_TEXT] = df[_TEXT].apply(lambda x: [item for item in x if item not in en_stopwords])\n",
    "\n",
    "## Stemming using Porter Stemmer\n",
    "stemmer = PorterStemmer()\n",
    "df[_TEXT] = df[_TEXT].apply(lambda x: [stemmer.stem(item) for item in x])\n",
    "\n",
    "## Dropping words that appear in all documents\n",
    "common_words = list(reduce(set.intersection, [set(item) for item in df[_TEXT] ]))\n",
    "df[_TEXT] = df[_TEXT].apply(lambda x:[item for item in x if item not in common_words])\n",
    "\n",
    "## Dropping Short Words\n",
    "df[_TEXT] = df[_TEXT].apply(lambda x: [item for item in x if len(item)>2])\n",
    "\n",
    "## Using Bigrams\n",
    "#df[_TEXT] = df[_TEXT].apply(lambda x: list(nltk.ngrams(x, 2))) \n",
    "\n",
    "## Not dropping infrequent words\n",
    "\n",
    "## Saving output\n",
    "df.to_csv(f\"{_PATH}wagashi_preprocessed.csv\")"
   ]
  },
  {
   "attachments": {},
   "cell_type": "markdown",
   "metadata": {},
   "source": [
    "## TF-IDF"
   ]
  },
  {
   "cell_type": "code",
   "execution_count": 78,
   "metadata": {},
   "outputs": [
    {
     "name": "stdout",
     "output_type": "stream",
     "text": [
      "(31, 6646)\n"
     ]
    }
   ],
   "source": [
    "## Make Tfidf Matrix\n",
    "vectorizer = TfidfVectorizer(ngram_range = (1,2)) \n",
    "tfidf_encodings = vectorizer.fit_transform(np.array(df[_TEXT].astype(str))) \n",
    "df_tfidf = tfidf_encodings.toarray()\n",
    "vectors_for_training = np.array(df_tfidf.tolist()) \n",
    "print(vectors_for_training.shape)"
   ]
  },
  {
   "attachments": {},
   "cell_type": "markdown",
   "metadata": {},
   "source": [
    "## Clustering\n",
    "\n",
    "https://en.wikipedia.org/wiki/List_of_Japanese_desserts_and_sweets"
   ]
  },
  {
   "cell_type": "code",
   "execution_count": 79,
   "metadata": {},
   "outputs": [],
   "source": [
    "def _get_cluster_items(cluster_id: int, cluster_df: object, text_df: object = df) -> object:\n",
    "    cluster_elemts = cluster_df[cluster_df.cluster == cluster_id][_LABEL]\n",
    "    cluster_text = text_df.loc[text_df[_LABEL].isin(cluster_elemts)][_TEXT]\n",
    "    print(cluster_elemts)\n",
    "    return cluster_text\n",
    "\n",
    "def _count_tokens(clusters_text: list) -> map:\n",
    "    frequence = Counter()\n",
    "    common_words = list(reduce(set.intersection, [set(item) for item in clusters_text]))\n",
    "    for tokens_in_cluster in clusters_text:\n",
    "        for token in tokens_in_cluster:\n",
    "            if token in common_words:\n",
    "                frequence[token] += 1\n",
    "    mult_occurences = []\n",
    "    for k in frequence:\n",
    "        mult_occurences.append((k, frequence[k]))\n",
    "    mult_occurences.sort(key=lambda t: t[1], reverse=True)\n",
    "    return mult_occurences"
   ]
  },
  {
   "cell_type": "code",
   "execution_count": 89,
   "metadata": {},
   "outputs": [
    {
     "name": "stdout",
     "output_type": "stream",
     "text": [
      "0           Akumaki\n",
      "6             Dango\n",
      "9             Gyuhi\n",
      "10    Hanabiramochi\n",
      "12            Hishi\n",
      "14          Karinto\n",
      "16        Kuzumochi\n",
      "18          Mizuame\n",
      "21      Sakuramochi\n",
      "24        Tokoroten\n",
      "25             Uiro\n",
      "26      Warabimochi\n",
      "28       Yatsuhashi\n",
      "30          Yubeshi\n",
      "Name: name, dtype: object\n",
      "[]\n",
      "\n",
      "1      Amanatto\n",
      "8        Gionbo\n",
      "11      Higashi\n",
      "15     Konpeito\n",
      "20    Namagashi\n",
      "27     Wasanbon\n",
      "Name: name, dtype: object\n",
      "[('use', 18), ('sweet', 7)]\n",
      "\n",
      "4       Botamochi\n",
      "5         Daifuku\n",
      "7        Dorayaki\n",
      "13    Imagawayaki\n",
      "17          Manju\n",
      "19         Monaka\n",
      "23        Taiyaki\n",
      "29          Yokan\n",
      "Name: name, dtype: object\n",
      "[('bean', 38), ('past', 30), ('made', 29), ('sweet', 22), ('media', 8)]\n",
      "\n",
      "2      Arare\n",
      "3      Beika\n",
      "22    Senbei\n",
      "Name: name, dtype: object\n",
      "[('senbei', 55), ('rice', 17), ('arar', 15), ('type', 9), ('includ', 7), ('made', 6), ('media', 3)]\n",
      "\n"
     ]
    }
   ],
   "source": [
    "_NB_CLUSTERS = 4\n",
    "\n",
    "#cluster_model = AgglomerativeClustering(n_clusters=_NB_CLUSTERS, linkage='average').fit(vectors_for_training)\n",
    "#cluster_model = KMeans(n_clusters=_NB_CLUSTERS).fit(vectors_for_training)\n",
    "cluster_model = Birch(n_clusters=_NB_CLUSTERS).fit(vectors_for_training)\n",
    "\n",
    "results = pd.DataFrame(\n",
    "            np.hstack((cluster_model.labels_.reshape(-1,1), \n",
    "            (df[_LABEL].values.reshape(-1,1))))\n",
    "        )\n",
    "results.columns = [_CLUSTER, _LABEL]\n",
    "results.sort_values(by=_CLUSTER)\n",
    "\n",
    "for id in range(0, _NB_CLUSTERS):\n",
    "    cluster_text = _get_cluster_items(id, results)\n",
    "    print(_count_tokens(cluster_text))\n",
    "    print()\n"
   ]
  },
  {
   "cell_type": "code",
   "execution_count": 25,
   "metadata": {},
   "outputs": [
    {
     "data": {
      "image/png": "[encoded data removed]",
      "text/plain": [
       "<Figure size 432x288 with 1 Axes>"
      ]
     },
     "metadata": {
      "needs_background": "light"
     },
     "output_type": "display_data"
    },
    {
     "data": {
      "image/png": "[encoded data removed]",
      "text/plain": [
       "<Figure size 432x288 with 1 Axes>"
      ]
     },
     "metadata": {
      "needs_background": "light"
     },
     "output_type": "display_data"
    }
   ],
   "source": [
    "from sklearn.metrics import davies_bouldin_score\n",
    "from sklearn.metrics import calinski_harabasz_score\n",
    "\n",
    "results_ch = {}\n",
    "results_db = {}\n",
    "\n",
    "for i in range(2,31):\n",
    "    cluster_model = Birch(n_clusters=i).fit(vectors_for_training)\n",
    "    ch_index = calinski_harabasz_score(vectors_for_training, cluster_model.labels_)\n",
    "    db_index = davies_bouldin_score(vectors_for_training, cluster_model.labels_)\n",
    "    results_ch.update({i: ch_index})\n",
    "    results_db.update({i: db_index})\n",
    "\n",
    "plt.plot(list(results_ch.keys()), list(results_ch.values()))\n",
    "plt.xlabel(\"Number of clusters\")\n",
    "plt.ylabel(\"Calinski-Harabasz Index\")\n",
    "plt.show()\n",
    "\n",
    "plt.plot(list(results_db.keys()), list(results_db.values()))\n",
    "plt.xlabel(\"Number of clusters\")\n",
    "plt.ylabel(\"Davies-Boulding Index\")\n",
    "plt.show()"
   ]
  },
  {
   "attachments": {},
   "cell_type": "markdown",
   "metadata": {},
   "source": [
    "1. Tokenization\n",
    "\n",
    "Tokenization is the process of parsing text data into smaller units (tokens) such as words and phrases. Commonly used tokenization methods include Bag-of-words model and N-gram model.\n",
    "\n",
    "2. Stemming and lemmatization\n",
    "\n",
    "Different tokens might carry out similar information (e.g. tokenization and tokenizing). And we can avoid calculating similar information repeatedly by reducing all tokens to its base form using various stemming and lemmatization dictionaries.\n",
    "\n",
    "3. Removing stop words and punctuation\n",
    "\n",
    "Some tokens are less important than others. For instance, common words such as \"the\" might not be very helpful for revealing the essential characteristics of a text. So usually it is a good idea to eliminate stop words and punctuation marks before doing further analysis.\n",
    "\n",
    "4. Computing term frequencies or tf-idf\n",
    "\n",
    "After pre-processing the text data, we can then proceed to generate features. For document clustering, one of the most common ways to generate features for a document is to calculate the term frequencies of all its tokens. Although not perfect, these frequencies can usually provide some clues about the topic of the document. And sometimes it is also useful to weight the term frequencies by the inverse document frequencies. See tf-idf for detailed discussions.\n",
    "\n",
    "5. Clustering\n",
    "\n",
    "We can then cluster different documents based on the features we have generated. See the algorithm section in cluster analysis for different types of clustering methods.\n",
    "\n",
    "6. Evaluation and visualization\n",
    "\n",
    "Finally, the clustering models can be assessed by various metrics. And it is sometimes helpful to visualize the results by plotting the clusters into low (two) dimensional space. See multidimensional scaling as a possible approach."
   ]
  }
 ],
 "metadata": {
  "kernelspec": {
   "display_name": "base",
   "language": "python",
   "name": "python3"
  },
  "language_info": {
   "codemirror_mode": {
    "name": "ipython",
    "version": 3
   },
   "file_extension": ".py",
   "mimetype": "text/x-python",
   "name": "python",
   "nbconvert_exporter": "python",
   "pygments_lexer": "ipython3",
   "version": "3.8.8 (default, Apr 13 2021, 12:59:45) \n[Clang 10.0.0 ]"
  },
  "orig_nbformat": 4,
  "vscode": {
   "interpreter": {
    "hash": "624c434b4448266ef6b3c5b6c15667705777b54e221aadd916740c58273314d9"
   }
  }
 },
 "nbformat": 4,
 "nbformat_minor": 2
}
